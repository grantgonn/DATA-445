{
 "cells": [
  {
   "cell_type": "code",
   "execution_count": 4,
   "id": "34916420",
   "metadata": {},
   "outputs": [],
   "source": [
    "#E1: I would use a clustering algorithm that would place customers with similarities into groups \n",
    "#E2: I would use a supervised learning model since we aren't trying to find new patterns. we can train this model with prior data so it can \n",
    "#    detect when spam is recieved.\n",
    "#E3: A test set is a portion of the data the model has not seen, you would use a test set to test your trained model to evaluate performance.\n",
    "#E4: E"
   ]
  },
  {
   "cell_type": "code",
   "execution_count": 1,
   "id": "d8418b78",
   "metadata": {},
   "outputs": [
    {
     "data": {
      "text/html": [
       "<div>\n",
       "<style scoped>\n",
       "    .dataframe tbody tr th:only-of-type {\n",
       "        vertical-align: middle;\n",
       "    }\n",
       "\n",
       "    .dataframe tbody tr th {\n",
       "        vertical-align: top;\n",
       "    }\n",
       "\n",
       "    .dataframe thead th {\n",
       "        text-align: right;\n",
       "    }\n",
       "</style>\n",
       "<table border=\"1\" class=\"dataframe\">\n",
       "  <thead>\n",
       "    <tr style=\"text-align: right;\">\n",
       "      <th></th>\n",
       "      <th>No</th>\n",
       "      <th>transaction_date</th>\n",
       "      <th>house_age</th>\n",
       "      <th>distance_to_the_nearest_MRT_station</th>\n",
       "      <th>number_of_convenience_stores</th>\n",
       "      <th>latitude</th>\n",
       "      <th>longitude</th>\n",
       "      <th>house_price_of_unit_area</th>\n",
       "    </tr>\n",
       "  </thead>\n",
       "  <tbody>\n",
       "    <tr>\n",
       "      <th>0</th>\n",
       "      <td>1</td>\n",
       "      <td>2012.917</td>\n",
       "      <td>32.0</td>\n",
       "      <td>84.87882</td>\n",
       "      <td>10</td>\n",
       "      <td>24.98298</td>\n",
       "      <td>121.54024</td>\n",
       "      <td>37.9</td>\n",
       "    </tr>\n",
       "    <tr>\n",
       "      <th>1</th>\n",
       "      <td>2</td>\n",
       "      <td>2012.917</td>\n",
       "      <td>19.5</td>\n",
       "      <td>306.59470</td>\n",
       "      <td>9</td>\n",
       "      <td>24.98034</td>\n",
       "      <td>121.53951</td>\n",
       "      <td>42.2</td>\n",
       "    </tr>\n",
       "    <tr>\n",
       "      <th>2</th>\n",
       "      <td>3</td>\n",
       "      <td>2013.583</td>\n",
       "      <td>13.3</td>\n",
       "      <td>561.98450</td>\n",
       "      <td>5</td>\n",
       "      <td>24.98746</td>\n",
       "      <td>121.54391</td>\n",
       "      <td>47.3</td>\n",
       "    </tr>\n",
       "    <tr>\n",
       "      <th>3</th>\n",
       "      <td>4</td>\n",
       "      <td>2013.500</td>\n",
       "      <td>13.3</td>\n",
       "      <td>561.98450</td>\n",
       "      <td>5</td>\n",
       "      <td>24.98746</td>\n",
       "      <td>121.54391</td>\n",
       "      <td>54.8</td>\n",
       "    </tr>\n",
       "    <tr>\n",
       "      <th>4</th>\n",
       "      <td>5</td>\n",
       "      <td>2012.833</td>\n",
       "      <td>5.0</td>\n",
       "      <td>390.56840</td>\n",
       "      <td>5</td>\n",
       "      <td>24.97937</td>\n",
       "      <td>121.54245</td>\n",
       "      <td>43.1</td>\n",
       "    </tr>\n",
       "  </tbody>\n",
       "</table>\n",
       "</div>"
      ],
      "text/plain": [
       "   No  transaction_date  house_age  distance_to_the_nearest_MRT_station  \\\n",
       "0   1          2012.917       32.0                             84.87882   \n",
       "1   2          2012.917       19.5                            306.59470   \n",
       "2   3          2013.583       13.3                            561.98450   \n",
       "3   4          2013.500       13.3                            561.98450   \n",
       "4   5          2012.833        5.0                            390.56840   \n",
       "\n",
       "   number_of_convenience_stores  latitude  longitude  house_price_of_unit_area  \n",
       "0                            10  24.98298  121.54024                      37.9  \n",
       "1                             9  24.98034  121.53951                      42.2  \n",
       "2                             5  24.98746  121.54391                      47.3  \n",
       "3                             5  24.98746  121.54391                      54.8  \n",
       "4                             5  24.97937  121.54245                      43.1  "
      ]
     },
     "execution_count": 1,
     "metadata": {},
     "output_type": "execute_result"
    }
   ],
   "source": [
    "import boto3\n",
    "import pandas as pd; pd.set_option('display.max_columns', 100)\n",
    "import numpy as np\n",
    "import matplotlib.pyplot as plt\n",
    "\n",
    "from sklearn.model_selection import train_test_split\n",
    "from sklearn.linear_model import LinearRegression\n",
    "\n",
    "s3 = boto3.resource('s3')\n",
    "bucket_name = 'grant-gonnerman-data-445'\n",
    "bucket = s3.Bucket(bucket_name)\n",
    "\n",
    "file_key = 'Real_Estate.csv'\n",
    "\n",
    "bucket_object = bucket.Object(file_key)\n",
    "file_object = bucket_object.get()\n",
    "file_content_stream = file_object.get('Body')\n",
    "\n",
    "# reading data file\n",
    "house_price = pd.read_csv(file_content_stream)\n",
    "house_price.head()"
   ]
  },
  {
   "cell_type": "code",
   "execution_count": 2,
   "id": "69c18507",
   "metadata": {},
   "outputs": [
    {
     "data": {
      "text/html": [
       "<div>\n",
       "<style scoped>\n",
       "    .dataframe tbody tr th:only-of-type {\n",
       "        vertical-align: middle;\n",
       "    }\n",
       "\n",
       "    .dataframe tbody tr th {\n",
       "        vertical-align: top;\n",
       "    }\n",
       "\n",
       "    .dataframe thead th {\n",
       "        text-align: right;\n",
       "    }\n",
       "</style>\n",
       "<table border=\"1\" class=\"dataframe\">\n",
       "  <thead>\n",
       "    <tr style=\"text-align: right;\">\n",
       "      <th></th>\n",
       "      <th>house_age</th>\n",
       "      <th>distance_to_the_nearest_MRT_station</th>\n",
       "      <th>number_of_convenience_stores</th>\n",
       "      <th>latitude</th>\n",
       "      <th>longitude</th>\n",
       "      <th>house_price_of_unit_area</th>\n",
       "    </tr>\n",
       "  </thead>\n",
       "  <tbody>\n",
       "    <tr>\n",
       "      <th>0</th>\n",
       "      <td>32.0</td>\n",
       "      <td>84.87882</td>\n",
       "      <td>10</td>\n",
       "      <td>24.98298</td>\n",
       "      <td>121.54024</td>\n",
       "      <td>37.9</td>\n",
       "    </tr>\n",
       "    <tr>\n",
       "      <th>1</th>\n",
       "      <td>19.5</td>\n",
       "      <td>306.59470</td>\n",
       "      <td>9</td>\n",
       "      <td>24.98034</td>\n",
       "      <td>121.53951</td>\n",
       "      <td>42.2</td>\n",
       "    </tr>\n",
       "    <tr>\n",
       "      <th>2</th>\n",
       "      <td>13.3</td>\n",
       "      <td>561.98450</td>\n",
       "      <td>5</td>\n",
       "      <td>24.98746</td>\n",
       "      <td>121.54391</td>\n",
       "      <td>47.3</td>\n",
       "    </tr>\n",
       "    <tr>\n",
       "      <th>3</th>\n",
       "      <td>13.3</td>\n",
       "      <td>561.98450</td>\n",
       "      <td>5</td>\n",
       "      <td>24.98746</td>\n",
       "      <td>121.54391</td>\n",
       "      <td>54.8</td>\n",
       "    </tr>\n",
       "    <tr>\n",
       "      <th>4</th>\n",
       "      <td>5.0</td>\n",
       "      <td>390.56840</td>\n",
       "      <td>5</td>\n",
       "      <td>24.97937</td>\n",
       "      <td>121.54245</td>\n",
       "      <td>43.1</td>\n",
       "    </tr>\n",
       "  </tbody>\n",
       "</table>\n",
       "</div>"
      ],
      "text/plain": [
       "   house_age  distance_to_the_nearest_MRT_station  \\\n",
       "0       32.0                             84.87882   \n",
       "1       19.5                            306.59470   \n",
       "2       13.3                            561.98450   \n",
       "3       13.3                            561.98450   \n",
       "4        5.0                            390.56840   \n",
       "\n",
       "   number_of_convenience_stores  latitude  longitude  house_price_of_unit_area  \n",
       "0                            10  24.98298  121.54024                      37.9  \n",
       "1                             9  24.98034  121.53951                      42.2  \n",
       "2                             5  24.98746  121.54391                      47.3  \n",
       "3                             5  24.98746  121.54391                      54.8  \n",
       "4                             5  24.97937  121.54245                      43.1  "
      ]
     },
     "execution_count": 2,
     "metadata": {},
     "output_type": "execute_result"
    }
   ],
   "source": [
    "##dropping No and transaction date\n",
    "house_price = house_price.drop(columns = ['No', 'transaction_date'], axis = 1)\n",
    "house_price.head()"
   ]
  },
  {
   "cell_type": "code",
   "execution_count": 41,
   "id": "1cdcfeda",
   "metadata": {},
   "outputs": [],
   "source": [
    "# defining input and target variable\n",
    "x = house_price.drop(columns = 'house_price_of_unit_area', axis = 1)\n",
    "y = house_price['house_price_of_unit_area']\n",
    "\n",
    "# spliting the data\n",
    "x_train, x_test, y_train, y_test = train_test_split(x, y, test_size = 0.2)\n",
    "\n",
    "# building the lm\n",
    "lm_md = LinearRegression().fit(x_train, y_train)"
   ]
  },
  {
   "cell_type": "code",
   "execution_count": 42,
   "id": "398230b7",
   "metadata": {},
   "outputs": [
    {
     "data": {
      "text/plain": [
       "array([44.3713829 , 49.93951816, 42.40895078, 24.77398751, 34.48247126,\n",
       "       34.75078044, 37.55586261, 45.22261861, 35.84417044, 42.74106686,\n",
       "       32.68898432, 36.81354331, 43.10148245, 47.18852997, 45.08025649,\n",
       "       48.01895405, 33.14228324, 35.60047327, 34.66780388, 39.89180743,\n",
       "       45.75179429, 42.58321262, 44.45299587, 25.80297522, 40.54141866,\n",
       "       41.8760278 , 38.811958  , 29.77048094, 41.91637521, 45.34453806,\n",
       "       46.1510566 , 41.32182835, 43.24496009,  9.63364038, 37.50984996,\n",
       "       34.10024064, 13.57904962, 45.13720134, 37.54776491, 39.36126377,\n",
       "       29.83239842, 38.94685626, 38.37456797, 39.84827391, 30.443962  ,\n",
       "       45.08025649, 15.14745549, 34.72706523, 43.43783613, 15.21973144,\n",
       "       45.1823458 , 51.82092399, 33.51617833, 52.54211143, 40.3521672 ,\n",
       "       33.08506237, 31.98054352, 40.44026454, 38.70234864, 33.28077726,\n",
       "       48.01895405, 24.73039952, 43.2194986 , 37.6009438 , 33.0609761 ,\n",
       "       14.91150194, 32.05065736, 45.76772834, 45.32470792, 28.17693325,\n",
       "       24.62681289, 52.02023095, 41.3787732 , 42.00092366, 37.85512146,\n",
       "       38.19636531, 45.27956346, 45.92406827, 48.48622084, 32.24451757,\n",
       "       39.06034091, 39.05932148, 43.95075915])"
      ]
     },
     "execution_count": 42,
     "metadata": {},
     "output_type": "execute_result"
    }
   ],
   "source": [
    "lm_pred = lm_md.predict(x_test)\n",
    "lm_pred"
   ]
  },
  {
   "cell_type": "code",
   "execution_count": 43,
   "id": "3e8fc8fd",
   "metadata": {},
   "outputs": [
    {
     "data": {
      "text/plain": [
       "97.0984401962492"
      ]
     },
     "execution_count": 43,
     "metadata": {},
     "output_type": "execute_result"
    }
   ],
   "source": [
    "# computing the mse\n",
    "np.mean((y_test - lm_pred)**2)"
   ]
  },
  {
   "cell_type": "code",
   "execution_count": 44,
   "id": "e834ff03",
   "metadata": {},
   "outputs": [
    {
     "data": {
      "text/plain": [
       "array([44.67141785, 48.10645309, 36.48428094, 20.00323056, 33.19278923,\n",
       "       34.44233136, 37.75079611, 42.54607512, 40.16898821, 42.97551994,\n",
       "       30.32376727, 34.22628806, 39.90350289, 43.46177671, 42.39757376,\n",
       "       48.94597269, 28.92714308, 33.46720633, 30.70073589, 38.75397024,\n",
       "       46.18348571, 43.67895915, 45.27634562, 25.97701631, 34.86728147,\n",
       "       42.06824789, 38.66530893, 33.18822428, 42.18326411, 45.80369373,\n",
       "       47.98739137, 41.37296338, 44.0539513 , 17.54253089, 37.68237875,\n",
       "       33.59622837, 16.52277095, 42.4569743 , 33.1666831 , 37.64981236,\n",
       "       28.91579498, 41.09634517, 33.38326748, 39.06890107, 25.75745382,\n",
       "       42.39757376, 18.13599475, 33.921587  , 42.33418311, 17.01350763,\n",
       "       45.5894803 , 52.36122176, 32.1838189 , 54.1258593 , 41.15328822,\n",
       "       34.49559073, 29.83452794, 34.66992449, 40.06135818, 31.62706279,\n",
       "       48.94597269, 19.88113727, 40.01334766, 37.51891388, 30.69707777,\n",
       "       16.69152156, 31.12976159, 46.44297656, 45.73798166, 25.66562847,\n",
       "       19.79589302, 52.56912366, 41.43236392, 41.83234346, 34.40525188,\n",
       "       36.40784041, 42.60547566, 44.7678598 , 49.77261793, 39.93164074,\n",
       "       36.24856999, 39.60093499, 39.08410018])"
      ]
     },
     "execution_count": 44,
     "metadata": {},
     "output_type": "execute_result"
    }
   ],
   "source": [
    "# building the second lm\n",
    "lm_md2 = LinearRegression().fit(x_train.drop(columns = 'distance_to_the_nearest_MRT_station', axis = 1), y_train)\n",
    "\n",
    "lm_pred2 = lm_md2.predict(x_test.drop(columns = 'distance_to_the_nearest_MRT_station', axis = 1))\n",
    "lm_pred2"
   ]
  },
  {
   "cell_type": "code",
   "execution_count": 45,
   "id": "db2402a5",
   "metadata": {},
   "outputs": [
    {
     "data": {
      "text/plain": [
       "102.57533337852915"
      ]
     },
     "execution_count": 45,
     "metadata": {},
     "output_type": "execute_result"
    }
   ],
   "source": [
    "# computing the mse\n",
    "np.mean((y_test - lm_pred2)**2)"
   ]
  },
  {
   "cell_type": "code",
   "execution_count": 8,
   "id": "5ce642fa",
   "metadata": {},
   "outputs": [],
   "source": [
    "# from the results i would use the first model because the MSE is lower on the first model than the second. "
   ]
  },
  {
   "cell_type": "code",
   "execution_count": 34,
   "id": "5b7bd558",
   "metadata": {},
   "outputs": [
    {
     "data": {
      "image/png": "[encoded data removed]",
      "text/plain": [
       "<Figure size 432x288 with 1 Axes>"
      ]
     },
     "metadata": {
      "needs_background": "light"
     },
     "output_type": "display_data"
    }
   ],
   "source": [
    "# building iteration loop\n",
    "x = house_price.drop(columns = 'house_price_of_unit_area', axis = 1)\n",
    "y = house_price['house_price_of_unit_area']\n",
    "\n",
    "md1_results = list()\n",
    "md2_results = list()\n",
    "\n",
    "for i in range (0,100):\n",
    "    # spliting the data\n",
    "    x_train, x_test, y_train, y_test = train_test_split(x, y, test_size = 0.2)\n",
    "    \n",
    "    #building model 1\n",
    "    lm_md = LinearRegression().fit(x_train, y_train)\n",
    "    lm_pred = lm_md.predict(x_test)\n",
    "    md1_results.append(np.mean((y_test - lm_pred)**2))\n",
    "    \n",
    "    #building model 2\n",
    "    lm_md2 = LinearRegression().fit(x_train.drop(columns = 'distance_to_the_nearest_MRT_station', axis = 1), y_train)\n",
    "    lm_pred2 = lm_md2.predict(x_test.drop(columns = 'distance_to_the_nearest_MRT_station', axis = 1))\n",
    "    md2_results.append(np.mean((y_test - lm_pred2)**2))\n",
    "    \n",
    "index = np.linspace(0, 99, 100)\n",
    "\n",
    "plt.plot(index, md1_results)\n",
    "plt.plot(index, md2_results)\n",
    "plt.legend([\"model 1\", \"model 2\"], loc = \"upper left\")\n",
    "plt.title(\"Model MSE over 100 Iterations\")\n",
    "plt.xlabel(\"Model iteration\")\n",
    "plt.ylabel(\"MSE\")\n",
    "plt.show()"
   ]
  },
  {
   "cell_type": "code",
   "execution_count": null,
   "id": "f6f457e2",
   "metadata": {},
   "outputs": [],
   "source": [
    "# from the chart we can see the line for model 1 seems to be below model 2 meaning the mse for model 1 is lower than model 2 for a majority of the iterations.\n",
    "# therefore model 1 performs better. "
   ]
  }
 ],
 "metadata": {
  "kernelspec": {
   "display_name": "conda_python3",
   "language": "python",
   "name": "conda_python3"
  },
  "language_info": {
   "codemirror_mode": {
    "name": "ipython",
    "version": 3
   },
   "file_extension": ".py",
   "mimetype": "text/x-python",
   "name": "python",
   "nbconvert_exporter": "python",
   "pygments_lexer": "ipython3",
   "version": "3.8.12"
  }
 },
 "nbformat": 4,
 "nbformat_minor": 5
}
